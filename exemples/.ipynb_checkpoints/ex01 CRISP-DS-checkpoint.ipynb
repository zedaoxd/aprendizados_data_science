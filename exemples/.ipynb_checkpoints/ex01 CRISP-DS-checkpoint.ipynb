{
 "cells": [
  {
   "cell_type": "markdown",
   "id": "fc6ff2ec",
   "metadata": {
    "ExecuteTime": {
     "end_time": "2022-07-03T18:48:43.789503Z",
     "start_time": "2022-07-03T18:48:43.449099Z"
    }
   },
   "source": [
    "# CRISP-DS\n",
    "1. Questão de Negócio\n",
    "2. Entendimento do Negócio\n",
    "3. Coleta de Dados\n",
    "4. Limpeza dos Dados\n",
    "5. Exploração dos Dados\n",
    "6. Modelagem dos Dados\n",
    "7. Algoritimos de Machine Learning\n",
    "8. Avaliação do Algoritimo\n",
    "---- Duvida ----\n",
    "\n",
    "9. Por o Modelo em produção ou  voltar a etapa 2"
   ]
  },
  {
   "cell_type": "markdown",
   "id": "6522787f",
   "metadata": {},
   "source": [
    "## 1. Questão de Negócio?\n",
    "Qual é o valor das vendas de cada loja nas próximas 6 semanas?"
   ]
  },
  {
   "cell_type": "markdown",
   "id": "aa204120",
   "metadata": {},
   "source": [
    "## 2. Entendimento do Negócio!\n",
    "1. Qual a Motivação?\n",
    "    - A previsão de vendas foi requisitada pelo CFO em uma reunião mensal sobre os resultados das lojas.\n",
    "\n",
    "\n",
    "2. Qual a Causa Raiz do Problema?\n",
    "    - Dificuldade de determinar o valor do investimento para Reformas de cada Loja.\n",
    "\n",
    "\n",
    "3. Quem é o Dono do Problema?\n",
    "    - Direitor Financeiro (CFO) da Rossmann.\n",
    "    \n",
    "\n",
    "4. Qual o Formato da Solução.\n",
    "    - <strong>Granularidade:</strong> Previsão de Vendas por Dia da Loja para os próximos 42 dias, 6 semanas.\n",
    "    - <strong>Tipo de Problema:</strong> Previsão de Vendas\n",
    "    - <strong>Potenciais Métodos:</strong> Séries Temporais\n",
    "    - <strong>Formato da Entrega:</strong> \n",
    "        1. O Valor total das vendas no final da 6° semana\n",
    "        2. Como essas vendas aconteceram dia a dia"
   ]
  },
  {
   "cell_type": "code",
   "execution_count": null,
   "id": "5e233519",
   "metadata": {},
   "outputs": [],
   "source": []
  },
  {
   "cell_type": "code",
   "execution_count": null,
   "id": "935934aa",
   "metadata": {},
   "outputs": [],
   "source": []
  },
  {
   "cell_type": "code",
   "execution_count": null,
   "id": "2cc7719c",
   "metadata": {},
   "outputs": [],
   "source": []
  },
  {
   "cell_type": "code",
   "execution_count": null,
   "id": "f09cb8a1",
   "metadata": {},
   "outputs": [],
   "source": []
  },
  {
   "cell_type": "code",
   "execution_count": null,
   "id": "a54a14ab",
   "metadata": {},
   "outputs": [],
   "source": []
  },
  {
   "cell_type": "code",
   "execution_count": null,
   "id": "3013acc3",
   "metadata": {},
   "outputs": [],
   "source": []
  },
  {
   "cell_type": "code",
   "execution_count": null,
   "id": "69583ee3",
   "metadata": {},
   "outputs": [],
   "source": []
  },
  {
   "cell_type": "code",
   "execution_count": null,
   "id": "67e0ab13",
   "metadata": {},
   "outputs": [],
   "source": []
  },
  {
   "cell_type": "code",
   "execution_count": null,
   "id": "26cf5b1b",
   "metadata": {},
   "outputs": [],
   "source": []
  },
  {
   "cell_type": "code",
   "execution_count": null,
   "id": "1d7dfc46",
   "metadata": {},
   "outputs": [],
   "source": []
  },
  {
   "cell_type": "code",
   "execution_count": null,
   "id": "b1c69faa",
   "metadata": {},
   "outputs": [],
   "source": []
  },
  {
   "cell_type": "code",
   "execution_count": null,
   "id": "5e346fae",
   "metadata": {},
   "outputs": [],
   "source": []
  },
  {
   "cell_type": "code",
   "execution_count": null,
   "id": "8ea1dbb9",
   "metadata": {},
   "outputs": [],
   "source": []
  },
  {
   "cell_type": "code",
   "execution_count": null,
   "id": "eb926f01",
   "metadata": {},
   "outputs": [],
   "source": []
  },
  {
   "cell_type": "code",
   "execution_count": null,
   "id": "31a9729e",
   "metadata": {},
   "outputs": [],
   "source": []
  },
  {
   "cell_type": "code",
   "execution_count": null,
   "id": "eb9ac51f",
   "metadata": {},
   "outputs": [],
   "source": []
  },
  {
   "cell_type": "code",
   "execution_count": null,
   "id": "2c828bef",
   "metadata": {},
   "outputs": [],
   "source": []
  }
 ],
 "metadata": {
  "kernelspec": {
   "display_name": "Python 3 (ipykernel)",
   "language": "python",
   "name": "python3"
  },
  "language_info": {
   "codemirror_mode": {
    "name": "ipython",
    "version": 3
   },
   "file_extension": ".py",
   "mimetype": "text/x-python",
   "name": "python",
   "nbconvert_exporter": "python",
   "pygments_lexer": "ipython3",
   "version": "3.10.5"
  }
 },
 "nbformat": 4,
 "nbformat_minor": 5
}
