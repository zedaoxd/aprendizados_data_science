{
 "cells": [
  {
   "cell_type": "markdown",
   "id": "7883c55e",
   "metadata": {
    "ExecuteTime": {
     "end_time": "2022-07-03T18:48:43.789503Z",
     "start_time": "2022-07-03T18:48:43.449099Z"
    }
   },
   "source": [
    "# CRISP-DS\n",
    "1. Questão de Negócio\n",
    "2. Entendimento do Negócio\n",
    "3. Coleta de Dados\n",
    "4. Limpeza dos Dados\n",
    "5. Exploração dos Dados\n",
    "6. Modelagem dos Dados\n",
    "7. Algoritimos de Machine Learning\n",
    "8. Avaliação do Algoritimo\n",
    "---- Duvida ----\n",
    "\n",
    "9. Por o Modelo em produção ou  voltar a etapa 2"
   ]
  },
  {
   "cell_type": "markdown",
   "id": "be9ad83f",
   "metadata": {},
   "source": [
    "## 1. Questão de Negócio?\n",
    "Qual é o valor das vendas de cada loja nas próximas 6 semanas?"
   ]
  },
  {
   "cell_type": "markdown",
   "id": "4c1885a7",
   "metadata": {},
   "source": [
    "## 2. Entendimento do Negócio!\n",
    "1. Qual a Motivação?\n",
    "    - A previsão de vendas foi requisitada pelo CFO em uma reunião mensal sobre os resultados das lojas.\n",
    "\n",
    "\n",
    "2. Qual a Causa Raiz do Problema?\n",
    "    - Dificuldade de determinar o valor do investimento para Reformas de cada Loja.\n",
    "\n",
    "\n",
    "3. Quem é o Dono do Problema?\n",
    "    - Direitor Financeiro (CFO) da Rossmann.\n",
    "    \n",
    "\n",
    "4. Qual o Formato da Solução.\n",
    "    - <strong>Granularidade:</strong> Previsão de Vendas por Dia da Loja para os próximos 42 dias, 6 semanas.\n",
    "    - <strong>Tipo de Problema:</strong> Previsão de Vendas\n",
    "    - <strong>Potenciais Métodos:</strong> Séries Temporais\n",
    "    - <strong>Formato da Entrega:</strong> \n",
    "        1. O Valor total das vendas no final da 6° semana\n",
    "        2. Como essas vendas aconteceram dia a dia"
   ]
  },
  {
   "cell_type": "markdown",
   "id": "af8a570b",
   "metadata": {
    "ExecuteTime": {
     "end_time": "2022-07-03T19:13:52.986823Z",
     "start_time": "2022-07-03T19:13:52.968756Z"
    }
   },
   "source": [
    "## Coleta de dados\n",
    "1. SQL's\n",
    "2. WebScraping"
   ]
  },
  {
   "cell_type": "code",
   "execution_count": null,
   "id": "041bf379",
   "metadata": {},
   "outputs": [],
   "source": []
  },
  {
   "cell_type": "code",
   "execution_count": null,
   "id": "40b809ec",
   "metadata": {},
   "outputs": [],
   "source": []
  },
  {
   "cell_type": "code",
   "execution_count": null,
   "id": "fc0206ba",
   "metadata": {},
   "outputs": [],
   "source": []
  },
  {
   "cell_type": "code",
   "execution_count": null,
   "id": "4c7e5e84",
   "metadata": {},
   "outputs": [],
   "source": []
  },
  {
   "cell_type": "code",
   "execution_count": null,
   "id": "cec11507",
   "metadata": {},
   "outputs": [],
   "source": []
  },
  {
   "cell_type": "code",
   "execution_count": null,
   "id": "1be4d651",
   "metadata": {},
   "outputs": [],
   "source": []
  },
  {
   "cell_type": "code",
   "execution_count": null,
   "id": "3286ad1e",
   "metadata": {},
   "outputs": [],
   "source": []
  },
  {
   "cell_type": "code",
   "execution_count": null,
   "id": "bdaf2839",
   "metadata": {},
   "outputs": [],
   "source": []
  },
  {
   "cell_type": "code",
   "execution_count": null,
   "id": "4171b9b8",
   "metadata": {},
   "outputs": [],
   "source": []
  },
  {
   "cell_type": "code",
   "execution_count": null,
   "id": "05bbbdf8",
   "metadata": {},
   "outputs": [],
   "source": []
  },
  {
   "cell_type": "code",
   "execution_count": null,
   "id": "89af7c95",
   "metadata": {},
   "outputs": [],
   "source": []
  },
  {
   "cell_type": "code",
   "execution_count": null,
   "id": "dbd53977",
   "metadata": {},
   "outputs": [],
   "source": []
  },
  {
   "cell_type": "code",
   "execution_count": null,
   "id": "7da46eae",
   "metadata": {},
   "outputs": [],
   "source": []
  },
  {
   "cell_type": "code",
   "execution_count": null,
   "id": "f8d83e76",
   "metadata": {},
   "outputs": [],
   "source": []
  },
  {
   "cell_type": "code",
   "execution_count": null,
   "id": "7b7c4fae",
   "metadata": {},
   "outputs": [],
   "source": []
  },
  {
   "cell_type": "code",
   "execution_count": null,
   "id": "4032bcbc",
   "metadata": {},
   "outputs": [],
   "source": []
  }
 ],
 "metadata": {
  "kernelspec": {
   "display_name": "Python 3 (ipykernel)",
   "language": "python",
   "name": "python3"
  },
  "language_info": {
   "codemirror_mode": {
    "name": "ipython",
    "version": 3
   },
   "file_extension": ".py",
   "mimetype": "text/x-python",
   "name": "python",
   "nbconvert_exporter": "python",
   "pygments_lexer": "ipython3",
   "version": "3.10.5"
  }
 },
 "nbformat": 4,
 "nbformat_minor": 5
}
