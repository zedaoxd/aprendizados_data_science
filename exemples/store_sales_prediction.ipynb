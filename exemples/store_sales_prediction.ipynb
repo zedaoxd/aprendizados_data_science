{
 "cells": [
  {
   "cell_type": "markdown",
   "id": "e172c1ea",
   "metadata": {
    "heading_collapsed": true
   },
   "source": [
    "# Quantidade de Dados:"
   ]
  },
  {
   "cell_type": "markdown",
   "id": "ff0c6658",
   "metadata": {
    "hidden": true
   },
   "source": [
    "- Eu tenho os recursos corretos para trabalhar?\n",
    "    - Servidores?Clusters? Spark? Hadoop?"
   ]
  },
  {
   "cell_type": "markdown",
   "id": "d02e7d80",
   "metadata": {
    "heading_collapsed": true
   },
   "source": [
    "# Tipos de Variáveis:"
   ]
  },
  {
   "cell_type": "markdown",
   "id": "48a1ded6",
   "metadata": {
    "hidden": true
   },
   "source": [
    "- Quais os tipos de variáveis?\n",
    "    - % Numérica, % Categórica, % Temporal."
   ]
  },
  {
   "cell_type": "markdown",
   "id": "5cb480ea",
   "metadata": {
    "heading_collapsed": true
   },
   "source": [
    "# Quantidade de Dados Faltante:"
   ]
  },
  {
   "cell_type": "markdown",
   "id": "d4fcf788",
   "metadata": {
    "hidden": true
   },
   "source": [
    "- Qual o volume de dados NA?\n",
    "- Qual a razão de faltar dados?\n",
    "    - Sistema? Imput Manual?"
   ]
  },
  {
   "cell_type": "markdown",
   "id": "ea30bb65",
   "metadata": {
    "heading_collapsed": true
   },
   "source": [
    "# Resumo Geral dos Dados"
   ]
  },
  {
   "cell_type": "markdown",
   "id": "eb972602",
   "metadata": {
    "hidden": true
   },
   "source": [
    "- Estatística Descritiva."
   ]
  },
  {
   "cell_type": "markdown",
   "id": "6db3605c",
   "metadata": {
    "heading_collapsed": true
   },
   "source": [
    "# 0.0 IMPORTS"
   ]
  },
  {
   "cell_type": "code",
   "execution_count": 49,
   "id": "f6a73ac7",
   "metadata": {
    "ExecuteTime": {
     "end_time": "2022-07-10T16:26:25.872147Z",
     "start_time": "2022-07-10T16:26:06.537745Z"
    },
    "hidden": true
   },
   "outputs": [],
   "source": [
    "import math\n",
    "import numpy as np\n",
    "import pandas as pd\n",
    "import inflection\n",
    "import seaborn as sns\n",
    "\n",
    "from sklearn.preprocessing import RobustScaler, MinMaxScaler, LabelEncoder\n",
    "from scipy import stats as ss\n",
    "from matplotlib import pyplot as plt\n",
    "from IPython.display import Image\n",
    "from IPython.core.display import HTML\n",
    "from tabulate import tabulate"
   ]
  },
  {
   "cell_type": "markdown",
   "id": "dbe6385c",
   "metadata": {
    "hidden": true
   },
   "source": [
    "## 0.1 Heper Functions"
   ]
  },
  {
   "cell_type": "code",
   "execution_count": null,
   "id": "c7a93857",
   "metadata": {
    "ExecuteTime": {
     "end_time": "2022-07-10T16:26:25.890784Z",
     "start_time": "2022-07-10T16:26:25.872147Z"
    },
    "hidden": true
   },
   "outputs": [],
   "source": [
    "def jupyter_settings():\n",
    "    %matplotlib inline\n",
    "    %pylab inline\n",
    "    plt.style.use( 'bmh' )\n",
    "    plt.rcParams['figure.figsize'] = [25, 12]\n",
    "    plt.rcParams['font.size'] = 24\n",
    "    display( HTML( '<style>.container { width:100% !important; }</style>') )\n",
    "    pd.options.display.max_columns = None\n",
    "    pd.options.display.max_rows = None\n",
    "    pd.set_option( 'display.expand_frame_repr', False )\n",
    "    sns.set()\n",
    "\n",
    "def cramer_v(x, y):\n",
    "    cm = pd.crosstab(x, y).values\n",
    "    n = cm.sum()\n",
    "    r, c = cm.shape\n",
    "\n",
    "    chi2 = ss.chi2_contingency(cm)[0]\n",
    "    chi2corr = max(0, chi2 - (c-1) * (r-1) / (n-1))\n",
    "\n",
    "    ccorr = c - (c-1)**2/(n-1)\n",
    "    rcorr = r - (r-1)**2/(n-1)\n",
    "\n",
    "    return np.sqrt( ( chi2corr/n ) / (min(ccorr-1, rcorr-1)) )"
   ]
  },
  {
   "cell_type": "code",
   "execution_count": null,
   "id": "944f65da",
   "metadata": {
    "ExecuteTime": {
     "end_time": "2022-07-10T16:26:26.152134Z",
     "start_time": "2022-07-10T16:26:25.890784Z"
    },
    "hidden": true
   },
   "outputs": [],
   "source": [
    "jupyter_settings()"
   ]
  },
  {
   "cell_type": "markdown",
   "id": "e225d402",
   "metadata": {
    "heading_collapsed": true,
    "hidden": true
   },
   "source": [
    "## 0.2 Loading Data"
   ]
  },
  {
   "cell_type": "code",
   "execution_count": null,
   "id": "ce1525b2",
   "metadata": {
    "ExecuteTime": {
     "end_time": "2022-07-10T16:26:27.364391Z",
     "start_time": "2022-07-10T16:26:26.152134Z"
    },
    "hidden": true
   },
   "outputs": [],
   "source": [
    "df_sales_raw = pd.read_csv('./../datasets/train.csv', low_memory=False)\n",
    "df_store_raw = pd.read_csv('./../datasets/store.csv', low_memory=False)\n",
    "\n",
    "# merge\n",
    "df_raw = pd.merge(df_sales_raw, df_store_raw, how='left', on='Store')"
   ]
  },
  {
   "cell_type": "markdown",
   "id": "a705b9b5",
   "metadata": {
    "heading_collapsed": true
   },
   "source": [
    "# 1.0 DESCRIÇÃO DOS DADOS"
   ]
  },
  {
   "cell_type": "code",
   "execution_count": null,
   "id": "34b31e19",
   "metadata": {
    "ExecuteTime": {
     "end_time": "2022-07-10T16:26:27.509137Z",
     "start_time": "2022-07-10T16:26:27.364391Z"
    },
    "hidden": true
   },
   "outputs": [],
   "source": [
    "df1 = df_raw.copy()"
   ]
  },
  {
   "cell_type": "markdown",
   "id": "dc650467",
   "metadata": {
    "heading_collapsed": true,
    "hidden": true
   },
   "source": [
    "## 1.1 Rename Coumns"
   ]
  },
  {
   "cell_type": "code",
   "execution_count": null,
   "id": "206d1236",
   "metadata": {
    "ExecuteTime": {
     "end_time": "2022-07-10T16:26:27.529126Z",
     "start_time": "2022-07-10T16:26:27.509137Z"
    },
    "hidden": true
   },
   "outputs": [],
   "source": [
    "cols_old = ['Store', 'DayOfWeek', 'Date', 'Sales', 'Customers', 'Open', 'Promo',\n",
    "       'StateHoliday', 'SchoolHoliday', 'StoreType', 'Assortment',\n",
    "       'CompetitionDistance', 'CompetitionOpenSinceMonth',\n",
    "       'CompetitionOpenSinceYear', 'Promo2', 'Promo2SinceWeek',\n",
    "       'Promo2SinceYear', 'PromoInterval']\n",
    "\n",
    "snakecase = lambda x: inflection.underscore(x)\n",
    "\n",
    "cols_new = list(map (snakecase, cols_old))\n",
    "\n",
    "df1.columns = cols_new"
   ]
  },
  {
   "cell_type": "markdown",
   "id": "d0c4a9d7",
   "metadata": {
    "heading_collapsed": true,
    "hidden": true
   },
   "source": [
    "## 1.2 Data Dimensions"
   ]
  },
  {
   "cell_type": "code",
   "execution_count": null,
   "id": "8edd795a",
   "metadata": {
    "ExecuteTime": {
     "end_time": "2022-07-10T16:26:27.544114Z",
     "start_time": "2022-07-10T16:26:27.529126Z"
    },
    "hidden": true
   },
   "outputs": [],
   "source": [
    "print(f'Number of Rows: {df1.shape[0]}')\n",
    "print(f'Number of Columns: {df1.shape[1]}')"
   ]
  },
  {
   "cell_type": "markdown",
   "id": "4c52e481",
   "metadata": {
    "heading_collapsed": true,
    "hidden": true
   },
   "source": [
    "## 1.3 Data types "
   ]
  },
  {
   "cell_type": "code",
   "execution_count": null,
   "id": "5d1d3413",
   "metadata": {
    "ExecuteTime": {
     "end_time": "2022-07-10T16:26:28.025892Z",
     "start_time": "2022-07-10T16:26:27.544114Z"
    },
    "hidden": true
   },
   "outputs": [],
   "source": [
    "df1['date'] = pd.to_datetime(df1['date'], format='%Y-%m-%d')\n",
    "df1.dtypes"
   ]
  },
  {
   "cell_type": "markdown",
   "id": "c12fdda9",
   "metadata": {
    "heading_collapsed": true,
    "hidden": true
   },
   "source": [
    "## 1.4 Check NA "
   ]
  },
  {
   "cell_type": "code",
   "execution_count": null,
   "id": "d57103b6",
   "metadata": {
    "ExecuteTime": {
     "end_time": "2022-07-10T16:26:28.431729Z",
     "start_time": "2022-07-10T16:26:28.025892Z"
    },
    "hidden": true
   },
   "outputs": [],
   "source": [
    "df1.isna().sum()"
   ]
  },
  {
   "cell_type": "markdown",
   "id": "308ce6e9",
   "metadata": {
    "heading_collapsed": true,
    "hidden": true
   },
   "source": [
    "## 1.5 Fillout NA"
   ]
  },
  {
   "cell_type": "code",
   "execution_count": null,
   "id": "656274d1",
   "metadata": {
    "ExecuteTime": {
     "end_time": "2022-07-10T16:27:18.796837Z",
     "start_time": "2022-07-10T16:26:28.431729Z"
    },
    "hidden": true
   },
   "outputs": [],
   "source": [
    "# competition_distance (Assumindo que não tem competidor proximo colocando o maior possivel de distancia)\n",
    "df1['competition_distance'] = df1['competition_distance'].apply(lambda x: 200_000.0 if math.isnan(x) else x)\n",
    "\n",
    "# competition_open_since_month\n",
    "df1['competition_open_since_month'] = df1.apply(lambda x: x['date'].month if math.isnan(x['competition_open_since_month']) else x['competition_open_since_month'], axis=1)\n",
    "\n",
    "# competition_open_since_year\n",
    "df1['competition_open_since_year'] = df1.apply(lambda x: x['date'].year if math.isnan(x['competition_open_since_year']) else x['competition_open_since_year'], axis=1)\n",
    "\n",
    "# promo2_since_week\n",
    "df1['promo2_since_week'] = df1.apply(lambda x: x['date'].week if math.isnan(x['promo2_since_week']) else x['promo2_since_week'], axis=1)\n",
    "\n",
    "# promo2_since_year\n",
    "df1['promo2_since_year'] = df1.apply(lambda x: x['date'].year if math.isnan(x['promo2_since_year']) else x['promo2_since_year'], axis=1)\n",
    "\n",
    "# promo_interval\n",
    "month_map = {1: 'Jan', 2: 'Fev', 3: 'Mar', 4: 'Apr', 5: 'May', 6: 'Jun', 7: 'Jul', 8: 'Aug', 9: 'Sep', 10: 'Oct',11: 'Nov',12: 'Dec'}\n",
    "df1['promo_interval'].fillna(0, inplace=True)\n",
    "df1['month_map'] = df1['date'].dt.month.map(month_map)\n",
    "df1['is_promo'] = df1[['promo_interval', 'month_map']].apply(lambda x: 0 if x['promo_interval'] == 0 else 1 if x['month_map'] in x['promo_interval'].split(',') else 0, axis=1)\n"
   ]
  },
  {
   "cell_type": "markdown",
   "id": "a3df22b2",
   "metadata": {
    "heading_collapsed": true,
    "hidden": true
   },
   "source": [
    "## 1.6 Change Types"
   ]
  },
  {
   "cell_type": "code",
   "execution_count": null,
   "id": "0b21ea43",
   "metadata": {
    "ExecuteTime": {
     "end_time": "2022-07-10T16:27:18.846820Z",
     "start_time": "2022-07-10T16:27:18.796837Z"
    },
    "hidden": true
   },
   "outputs": [],
   "source": [
    "df1['competition_open_since_month'] = df1['competition_open_since_month'].astype(int)\n",
    "df1['competition_open_since_year'] = df1['competition_open_since_year'].astype(int)\n",
    "df1['promo2_since_week'] = df1['promo2_since_week'].astype(int)\n",
    "df1['promo2_since_year'] = df1['promo2_since_year'].astype(int)"
   ]
  },
  {
   "cell_type": "markdown",
   "id": "ad19b679",
   "metadata": {
    "heading_collapsed": true,
    "hidden": true
   },
   "source": [
    "## 1.7 Descriptive Statistical"
   ]
  },
  {
   "cell_type": "code",
   "execution_count": null,
   "id": "45ac2cef",
   "metadata": {
    "ExecuteTime": {
     "end_time": "2022-07-10T16:27:18.866840Z",
     "start_time": "2022-07-10T16:27:18.846820Z"
    },
    "hidden": true
   },
   "outputs": [],
   "source": [
    "num_attributes = df1.select_dtypes(include=['int64', 'float64'])\n",
    "cat_attributes = df1.select_dtypes(exclude=['int64', 'float64', 'datetime64[ns]'])"
   ]
  },
  {
   "cell_type": "markdown",
   "id": "bc4c5caa",
   "metadata": {
    "heading_collapsed": true,
    "hidden": true
   },
   "source": [
    "### 1.7.1 Numerial Attributes"
   ]
  },
  {
   "cell_type": "code",
   "execution_count": null,
   "id": "583d4167",
   "metadata": {
    "ExecuteTime": {
     "end_time": "2022-07-10T16:27:20.719422Z",
     "start_time": "2022-07-10T16:27:18.866840Z"
    },
    "hidden": true
   },
   "outputs": [],
   "source": [
    "# Central Tendency - mean, median\n",
    "_mean = pd.DataFrame( num_attributes.apply( np.mean ) ).T\n",
    "_median = pd.DataFrame( num_attributes.apply( np.median ) ).T\n",
    "\n",
    "# Dispersion - std, min, max, range, skew, kurtosis\n",
    "_std = pd.DataFrame( num_attributes.apply( np.std ) ).T\n",
    "_min = pd.DataFrame( num_attributes.apply( min ) ).T\n",
    "_max = pd.DataFrame( num_attributes.apply( max ) ).T\n",
    "_range = pd.DataFrame( num_attributes.apply( lambda x: x.max() - x.min() ) ).T\n",
    "_skew = pd.DataFrame( num_attributes.apply( lambda x: x.skew() ) ).T\n",
    "_kurtosis = pd.DataFrame( num_attributes.apply( lambda x: x.kurtosis() ) ).T\n",
    "\n",
    "# concatenate\n",
    "m = pd.concat( [_min, _max, _range, _mean, _median, _std, _skew, _kurtosis] ).T.reset_index()\n",
    "m.columns = ['attributes', 'min', 'max', 'range', 'mean', 'median', 'std', 'skew', 'kurtosis'] \n",
    "m"
   ]
  },
  {
   "cell_type": "code",
   "execution_count": null,
   "id": "f3339136",
   "metadata": {
    "ExecuteTime": {
     "end_time": "2022-07-10T16:27:22.777020Z",
     "start_time": "2022-07-10T16:27:20.719422Z"
    },
    "hidden": true
   },
   "outputs": [],
   "source": [
    "sns.displot(df1['customers']);"
   ]
  },
  {
   "cell_type": "markdown",
   "id": "9621199a",
   "metadata": {
    "heading_collapsed": true,
    "hidden": true
   },
   "source": [
    "### 1.7.2 Categorical Attributes"
   ]
  },
  {
   "cell_type": "code",
   "execution_count": null,
   "id": "3eab91b8",
   "metadata": {
    "ExecuteTime": {
     "end_time": "2022-07-10T16:27:22.968852Z",
     "start_time": "2022-07-10T16:27:22.777020Z"
    },
    "hidden": true
   },
   "outputs": [],
   "source": [
    "cat_attributes.apply(lambda x: x.unique().shape[0])"
   ]
  },
  {
   "cell_type": "code",
   "execution_count": null,
   "id": "685c61b6",
   "metadata": {
    "ExecuteTime": {
     "end_time": "2022-07-10T16:27:23.389174Z",
     "start_time": "2022-07-10T16:27:22.968852Z"
    },
    "hidden": true
   },
   "outputs": [],
   "source": [
    "aux1 = df1[ ( df1['state_holiday'] != '0') & ( df1['sales'] > 0 ) ]\n",
    "\n",
    "plt.subplot(1, 3, 1)\n",
    "sns.boxplot( x='state_holiday', y='sales', data=aux1)\n",
    "\n",
    "plt.subplot(1, 3, 2)\n",
    "sns.boxplot( x='store_type', y='sales', data=aux1)\n",
    "\n",
    "plt.subplot(1, 3, 3)\n",
    "sns.boxplot( x='assortment', y='sales', data=aux1)"
   ]
  },
  {
   "cell_type": "markdown",
   "id": "f13ac223",
   "metadata": {
    "heading_collapsed": true
   },
   "source": [
    "# 2.0 FEATURE ENGINEERING"
   ]
  },
  {
   "cell_type": "code",
   "execution_count": null,
   "id": "47117786",
   "metadata": {
    "ExecuteTime": {
     "end_time": "2022-07-10T16:27:23.424294Z",
     "start_time": "2022-07-10T16:27:23.389174Z"
    },
    "hidden": true
   },
   "outputs": [],
   "source": [
    "df2 = df1.copy()"
   ]
  },
  {
   "cell_type": "markdown",
   "id": "bf734505",
   "metadata": {
    "hidden": true
   },
   "source": [
    "<strong> Usar site Coogle para criar mapas mentais</strong> "
   ]
  },
  {
   "cell_type": "markdown",
   "id": "2efb7d17",
   "metadata": {
    "heading_collapsed": true,
    "hidden": true
   },
   "source": [
    "## 2.1 Mind Map Hypothese"
   ]
  },
  {
   "cell_type": "code",
   "execution_count": null,
   "id": "f7119190",
   "metadata": {
    "ExecuteTime": {
     "end_time": "2022-07-10T16:27:23.594872Z",
     "start_time": "2022-07-10T16:27:23.424294Z"
    },
    "hidden": true
   },
   "outputs": [],
   "source": [
    "Image('./../images/MindMapHypothesis.png')"
   ]
  },
  {
   "cell_type": "markdown",
   "id": "6eac082d",
   "metadata": {
    "heading_collapsed": true,
    "hidden": true
   },
   "source": [
    "## 2.2 Criação das hipóteses"
   ]
  },
  {
   "cell_type": "markdown",
   "id": "da1b010f",
   "metadata": {
    "hidden": true
   },
   "source": [
    "### 2.2.1 Hipóteses Loja"
   ]
  },
  {
   "cell_type": "markdown",
   "id": "0b7a4dfb",
   "metadata": {
    "hidden": true
   },
   "source": [
    "**1.** Lojas com número maior de funcionários deveriam vender mais.\n",
    "\n",
    "**2.** Lojas com maior capacidade de estoque deveriam vender mais.\n",
    "\n",
    "**3.** Lojas com maior capacidade de porte deveriam vender mais.\n",
    "\n",
    "**4.** Lojas com maior sortimentos deveriam deveriam vender mais.\n",
    "\n",
    "**5.** Lojas com competidores mais próximos deveriam vender menos.\n",
    "\n",
    "**6.** Lojas com competidores à mais tempo deveriam vender mais."
   ]
  },
  {
   "cell_type": "markdown",
   "id": "afa95031",
   "metadata": {
    "hidden": true
   },
   "source": [
    "### 2.2.2 Hipóteses Produto"
   ]
  },
  {
   "cell_type": "markdown",
   "id": "c285101e",
   "metadata": {
    "hidden": true
   },
   "source": [
    "**1.** Lojas que investem mais em marketing deveriam vender mais.\n",
    "\n",
    "**2.** Lojas com maior exposição de produto deveriam vender mais.\n",
    "\n",
    "**3.** Lojas com produtos com preço menor deveriam vender mais.\n",
    "\n",
    "**4.** Lojas com promoções mais agressivas deveriam vender mais.\n",
    "\n",
    "**5.** Lojas com promoções ativas por mais tempo deveriam vender mais.\n",
    "\n",
    "**6.** Lojas com mais dias de promoção deveriam vender mais.\n",
    "\n",
    "**7.** Lojas com mais promoções consecutivas deveriam vender mais."
   ]
  },
  {
   "cell_type": "markdown",
   "id": "873a2ec3",
   "metadata": {
    "hidden": true
   },
   "source": [
    "### 2.2.3 Hipóteses Tempo"
   ]
  },
  {
   "cell_type": "markdown",
   "id": "33c005b2",
   "metadata": {
    "hidden": true
   },
   "source": [
    "**1.** Lojas abertas durante o feriado de Natal deveriam vender mais.\n",
    "\n",
    "**2.** Lojas deveriam vender mais ao longo dos anos.\n",
    "\n",
    "**3.** Lojas deveriam vender mais no segundo semestre do ano.\n",
    "\n",
    "**4.** Lojas deveriam vender mais depois do dia 10 de cada mês.\n",
    "\n",
    "**5.** Lojas deveriam vender menos aos finais de semana.\n",
    "\n",
    "**6.** Lojas deveriam vender menos durante os feriados escolares."
   ]
  },
  {
   "cell_type": "markdown",
   "id": "8e705694",
   "metadata": {
    "heading_collapsed": true,
    "hidden": true
   },
   "source": [
    "## 2.3 Lista Final de Hipóteses"
   ]
  },
  {
   "cell_type": "markdown",
   "id": "9947aaf6",
   "metadata": {
    "hidden": true
   },
   "source": [
    "**1.** Lojas com maior sortimentos deveriam deveriam vender mais.\n",
    "\n",
    "**2.** Lojas com competidores mais próximos deveriam vender menos.\n",
    "\n",
    "**3.** Lojas com competidores à mais tempo deveriam vender mais.\n",
    "\n",
    "**4.** Lojas com promoções ativas por mais tempo deveriam vender mais.\n",
    "\n",
    "**5.** Lojas com mais dias de promoção deveriam vender mais.\n",
    "\n",
    "**6.** Lojas com mais promoções consecutivas deveriam vender mais.\n",
    "\n",
    "**7** Lojas abertas durante o feriado de Natal deveriam vender mais.\n",
    "\n",
    "**8.** Lojas deveriam vender mais ao longo dos anos.\n",
    "\n",
    "**9.** Lojas deveriam vender mais no segundo semestre do ano.\n",
    "\n",
    "**10.** Lojas deveriam vender mais depois do dia 10 de cada mês.\n",
    "\n",
    "**11.** Lojas deveriam vender menos aos finais de semana.\n",
    "\n",
    "**12.** Lojas deveriam vender menos durante os feriados escolares."
   ]
  },
  {
   "cell_type": "markdown",
   "id": "75f2871f",
   "metadata": {
    "heading_collapsed": true,
    "hidden": true
   },
   "source": [
    "## 2.4 Feature Engineering"
   ]
  },
  {
   "cell_type": "code",
   "execution_count": null,
   "id": "83ae5420",
   "metadata": {
    "ExecuteTime": {
     "end_time": "2022-07-10T16:28:11.571057Z",
     "start_time": "2022-07-10T16:27:23.594872Z"
    },
    "hidden": true
   },
   "outputs": [],
   "source": [
    "# year\n",
    "df2['year'] = df2['date'].dt.year\n",
    "\n",
    "# month\n",
    "df2['month'] = df2['date'].dt.month\n",
    "\n",
    "# day\n",
    "df2['day'] = df2['date'].dt.day\n",
    "\n",
    "# week of year\n",
    "df2['week_of_year'] = df2['date'].dt.isocalendar().week\n",
    "\n",
    "# year week\n",
    "df2['year_week'] = df2['date'].dt.strftime('%Y-%W')\n",
    "\n",
    "# competition since\n",
    "df2['competition_since'] = df2.apply(lambda x: datetime.datetime(year=x['competition_open_since_year'], month=x['competition_open_since_month'], day=1), axis=1)\n",
    "df2['competition_time_month'] = (( df2['date'] - df2['competition_since'] ) / 30).apply(lambda x: x.days).astype(int)\n",
    "\n",
    "# promo since\n",
    "df2['promo_since'] = df2['promo2_since_year'].astype(str) + '-' + df2['promo2_since_week'].astype(str)\n",
    "df2['promo_since'] = df2['promo_since'].apply(lambda x: datetime.datetime.strptime(f'{x}-1', '%Y-%W-%w') - datetime.timedelta(days=7))\n",
    "df2['promo_time_week'] = ( (df2['date'] - df2['promo_since']) / 7 ).apply(lambda x: x.days).astype(int)\n",
    "\n",
    "# assortment\n",
    "df2['assortment'] = df2['assortment'].apply( lambda x: 'basic' if x == 'a' else 'extra' if x == 'b' else 'extended')\n",
    "\n",
    "# state holiday\n",
    "df2['state_holiday'] = df2['state_holiday'].apply(lambda x: 'public holiday' if x == 'a' else 'Easter holiday' if x == 'b' else 'Christmas' if x == 'c' else 'Regular day')\n"
   ]
  },
  {
   "cell_type": "markdown",
   "id": "5ddf4eca",
   "metadata": {
    "heading_collapsed": true
   },
   "source": [
    "# 3.0 FILTRAGEM DE VARIÁVEIS"
   ]
  },
  {
   "cell_type": "code",
   "execution_count": null,
   "id": "6facc31e",
   "metadata": {
    "ExecuteTime": {
     "end_time": "2022-07-10T16:28:11.720880Z",
     "start_time": "2022-07-10T16:28:11.571057Z"
    },
    "hidden": true
   },
   "outputs": [],
   "source": [
    "df3 = df2.copy()"
   ]
  },
  {
   "cell_type": "markdown",
   "id": "eb84af9b",
   "metadata": {
    "heading_collapsed": true,
    "hidden": true
   },
   "source": [
    "## 3.1 Filtragem das Linhas"
   ]
  },
  {
   "cell_type": "code",
   "execution_count": null,
   "id": "c7d6954a",
   "metadata": {
    "ExecuteTime": {
     "end_time": "2022-07-10T16:28:11.865850Z",
     "start_time": "2022-07-10T16:28:11.720880Z"
    },
    "hidden": true
   },
   "outputs": [],
   "source": [
    "df3 = df3[(df3['open'] != 0) & (df3['sales'] > 0)]"
   ]
  },
  {
   "cell_type": "markdown",
   "id": "7135792d",
   "metadata": {
    "heading_collapsed": true,
    "hidden": true
   },
   "source": [
    "## 3.2 Selecao das Colunas"
   ]
  },
  {
   "cell_type": "code",
   "execution_count": null,
   "id": "9f410b7c",
   "metadata": {
    "ExecuteTime": {
     "end_time": "2022-07-10T16:28:11.941929Z",
     "start_time": "2022-07-10T16:28:11.866729Z"
    },
    "hidden": true
   },
   "outputs": [],
   "source": [
    "cols_drop = ['customers', 'open', 'promo_interval', 'month_map']\n",
    "df3 = df3.drop(cols_drop, axis=1)"
   ]
  },
  {
   "cell_type": "markdown",
   "id": "79dd1781",
   "metadata": {},
   "source": [
    "# 4.0 ANALISE EXPLORATORIA DOS DADOS"
   ]
  },
  {
   "cell_type": "code",
   "execution_count": null,
   "id": "71f93613",
   "metadata": {
    "ExecuteTime": {
     "end_time": "2022-07-10T16:28:11.990112Z",
     "start_time": "2022-07-10T16:28:11.941929Z"
    }
   },
   "outputs": [],
   "source": [
    "df4 = df3.copy()"
   ]
  },
  {
   "cell_type": "markdown",
   "id": "498d4fa9",
   "metadata": {
    "heading_collapsed": true
   },
   "source": [
    "## 4.1 Analise Univariada"
   ]
  },
  {
   "cell_type": "markdown",
   "id": "309ddc95",
   "metadata": {
    "heading_collapsed": true,
    "hidden": true
   },
   "source": [
    "### 4.1.1 Response Variable"
   ]
  },
  {
   "cell_type": "code",
   "execution_count": null,
   "id": "ca199e7c",
   "metadata": {
    "ExecuteTime": {
     "end_time": "2022-07-10T16:28:13.324700Z",
     "start_time": "2022-07-10T16:28:11.990112Z"
    },
    "hidden": true,
    "hide_input": false
   },
   "outputs": [],
   "source": [
    "sns.displot( np.log1p( df4['sales'] ) )"
   ]
  },
  {
   "cell_type": "markdown",
   "id": "b546fc19",
   "metadata": {
    "heading_collapsed": true,
    "hidden": true
   },
   "source": [
    "### 4.1.2 Numerical Variable"
   ]
  },
  {
   "cell_type": "code",
   "execution_count": null,
   "id": "be2f4cfb",
   "metadata": {
    "ExecuteTime": {
     "end_time": "2022-07-10T16:28:15.001679Z",
     "start_time": "2022-07-10T16:28:13.324700Z"
    },
    "hidden": true,
    "hide_input": false
   },
   "outputs": [],
   "source": [
    "num_attributes.hist( bins=25 );"
   ]
  },
  {
   "cell_type": "markdown",
   "id": "f97b05b8",
   "metadata": {
    "heading_collapsed": true,
    "hidden": true,
    "hide_input": false
   },
   "source": [
    "### 4.1.3 Categoriacal Variable"
   ]
  },
  {
   "cell_type": "code",
   "execution_count": null,
   "id": "820456f1",
   "metadata": {
    "ExecuteTime": {
     "end_time": "2022-07-10T16:28:35.785239Z",
     "start_time": "2022-07-10T16:28:15.001679Z"
    },
    "code_folding": [],
    "hidden": true,
    "hide_input": false
   },
   "outputs": [],
   "source": [
    "# state_holiday\n",
    "plt.subplot( 3, 2, 1 );\n",
    "a = df4[df4['state_holiday'] != 'Regular day']\n",
    "sns.countplot( x='state_holiday', data=a );\n",
    "\n",
    "plt.subplot( 3, 2, 2 );\n",
    "sns.kdeplot( df4[ df4['state_holiday'] == 'public holiday']['sales'], label='public holiday', shade=True);\n",
    "sns.kdeplot( df4[ df4['state_holiday'] == 'Easter holiday']['sales'], label='Easter holiday', shade=True);\n",
    "sns.kdeplot( df4[ df4['state_holiday'] == 'Christmas']['sales'], label='Christmas', shade=True);\n",
    "\n",
    "# store_type\n",
    "plt.subplot(3, 2, 3);\n",
    "sns.countplot(x='store_type', data=df4);\n",
    "\n",
    "plt.subplot(3, 2, 4)\n",
    "sns.kdeplot( df4[ df4['store_type'] == 'a']['sales'], label='a', shade=True);\n",
    "sns.kdeplot( df4[ df4['store_type'] == 'b']['sales'], label='b', shade=True);\n",
    "sns.kdeplot( df4[ df4['store_type'] == 'c']['sales'], label='c', shade=True);\n",
    "sns.kdeplot( df4[ df4['store_type'] == 'd']['sales'], label='d', shade=True);\n",
    "\n",
    "# assortment\n",
    "plt.subplot(3, 2, 5)\n",
    "sns.countplot(x='assortment', data=df4);\n",
    "\n",
    "plt.subplot(3, 2, 6)\n",
    "sns.kdeplot( df4[ df4['assortment'] == 'basic']['sales'], label='basic', shade=True);\n",
    "sns.kdeplot( df4[ df4['assortment'] == 'extended']['sales'], label='extended', shade=True);\n",
    "sns.kdeplot( df4[ df4['assortment'] == 'extra']['sales'], label='extra', shade=True);"
   ]
  },
  {
   "cell_type": "markdown",
   "id": "8edc0ee2",
   "metadata": {
    "hide_input": true
   },
   "source": [
    "## 4.2 Analise Bivariada"
   ]
  },
  {
   "cell_type": "markdown",
   "id": "73e3e583",
   "metadata": {
    "heading_collapsed": true
   },
   "source": [
    "### **H1.** Lojas com maior sortimentos deveriam deveriam vender mais.\n",
    "**False** => Na verdade Lojas com **MAIOR** sortimentos vendem **MENOS**."
   ]
  },
  {
   "cell_type": "code",
   "execution_count": null,
   "id": "05eda639",
   "metadata": {
    "ExecuteTime": {
     "end_time": "2022-07-10T16:28:36.398523Z",
     "start_time": "2022-07-10T16:28:35.785239Z"
    },
    "hidden": true
   },
   "outputs": [],
   "source": [
    "aux1 = df4[['assortment', 'sales']].groupby('assortment').sum().reset_index()\n",
    "sns.barplot( x='assortment', y='sales', data=aux1);\n",
    "\n",
    "aux2 = df4[['year_week', 'assortment', 'sales']].groupby(['year_week', 'assortment']).sum().reset_index()\n",
    "aux2.pivot(index='year_week', columns='assortment', values='sales').plot();\n",
    "\n",
    "aux3 = aux2[aux2['assortment'] == 'extra']\n",
    "aux3.pivot(index='year_week', columns='assortment', values='sales').plot();"
   ]
  },
  {
   "cell_type": "markdown",
   "id": "a652e2ff",
   "metadata": {
    "heading_collapsed": true
   },
   "source": [
    "### **H2.** Lojas com competidores mais próximos deveriam vender menos.\n",
    "**False** => Na verdade competidores próximos vendem **MAIS**"
   ]
  },
  {
   "cell_type": "code",
   "execution_count": null,
   "id": "5d1af13e",
   "metadata": {
    "ExecuteTime": {
     "end_time": "2022-07-10T16:28:37.200066Z",
     "start_time": "2022-07-10T16:28:36.403492Z"
    },
    "hidden": true
   },
   "outputs": [],
   "source": [
    "aux1 = df4[['competition_distance', 'sales']].groupby('competition_distance').sum().reset_index()\n",
    "\n",
    "plt.subplot(1, 3, 1)\n",
    "sns.scatterplot(x='competition_distance', y='sales', data=aux1);\n",
    "\n",
    "plt.subplot(1, 3, 2)\n",
    "bins = list(np.arange(0, 20_000, 1_000))\n",
    "aux1['competition_distance_binned'] = pd.cut(aux1['competition_distance'], bins=bins)\n",
    "aux2 = aux1[['competition_distance_binned', 'sales']].groupby('competition_distance_binned').sum().reset_index()\n",
    "sns.barplot(x='competition_distance_binned', y='sales', data=aux2);\n",
    "plt.xticks(rotation=90);\n",
    "\n",
    "plt.subplot(1, 3, 3)\n",
    "sns.heatmap(aux1.corr(method='pearson'), annot=True);\n"
   ]
  },
  {
   "cell_type": "markdown",
   "id": "a86dd253",
   "metadata": {
    "heading_collapsed": true
   },
   "source": [
    "### **H3.** Lojas com competidores à mais tempo deveriam vender mais.\n",
    "**False** => Na verdade lojas com competidores a **MENOS** tempo vendem **MAIS**"
   ]
  },
  {
   "cell_type": "code",
   "execution_count": null,
   "id": "bdb59a31",
   "metadata": {
    "ExecuteTime": {
     "end_time": "2022-07-10T16:28:40.194346Z",
     "start_time": "2022-07-10T16:28:37.201035Z"
    },
    "hidden": true
   },
   "outputs": [],
   "source": [
    "plt.subplot(1, 3, 1)\n",
    "aux1 = df4[['sales', 'competition_time_month']].groupby('competition_time_month').sum().reset_index()\n",
    "aux2 = aux1[(aux1['competition_time_month'] < 120) & (aux1['competition_time_month'] != 0)]\n",
    "plt.xticks(rotation=90)\n",
    "sns.barplot(x='competition_time_month', y='sales', data=aux2);\n",
    "\n",
    "plt.subplot(1, 3, 2)\n",
    "sns.regplot(x='competition_time_month', y='sales', data=aux2);\n",
    "\n",
    "plt.subplot(1, 3, 3)\n",
    "sns.heatmap(aux2.corr(method='pearson'), annot=True);"
   ]
  },
  {
   "cell_type": "markdown",
   "id": "9e438b1d",
   "metadata": {
    "heading_collapsed": true
   },
   "source": [
    "### **H4.** Lojas com promoções ativas por mais tempo deveriam vender mais.\n",
    "**False** => Na verdade lojas com promoções ativas por **MAIS** tempo vendem **MENOS**, depois de um certo tempo"
   ]
  },
  {
   "cell_type": "code",
   "execution_count": null,
   "id": "77d524cd",
   "metadata": {
    "ExecuteTime": {
     "end_time": "2022-07-10T17:01:22.257465Z",
     "start_time": "2022-07-10T17:01:14.136755Z"
    },
    "hidden": true,
    "scrolled": false
   },
   "outputs": [],
   "source": [
    "aux1 = df4[['sales', 'promo_time_week']].groupby('promo_time_week').sum().reset_index()\n",
    "\n",
    "grid = GridSpec(2, 3)\n",
    "\n",
    "plt.subplot(grid[0, 0])\n",
    "aux2 = aux1[aux1['promo_time_week'] > 0] # promo extendido\n",
    "plt.xticks(rotation=90)\n",
    "plt.title('promo extendida')\n",
    "sns.barplot(x='promo_time_week', y='sales', data=aux2);\n",
    "\n",
    "plt.subplot(grid[0, 1])\n",
    "sns.regplot(x='promo_time_week', y='sales', data=aux2);\n",
    "\n",
    "plt.subplot(grid[1, 0])\n",
    "aux3 = aux1[aux1['promo_time_week'] < 0] # promo regular\n",
    "plt.xticks(rotation=90)\n",
    "plt.title('promo regular')\n",
    "sns.barplot(x='promo_time_week', y='sales', data=aux3);\n",
    "\n",
    "plt.subplot(grid[1, 1])\n",
    "sns.regplot(x='promo_time_week', y='sales', data=aux3);\n",
    "\n",
    "# correlação entre vendas e duração da promoção\n",
    "plt.subplot(grid[:, 2])\n",
    "sns.heatmap(aux1.corr(method='pearson'), annot=True);"
   ]
  },
  {
   "cell_type": "markdown",
   "id": "c1c059eb",
   "metadata": {
    "heading_collapsed": true
   },
   "source": [
    "### <s>**H5.** Lojas com mais dias de promoção deveriam vender mais.</s>"
   ]
  },
  {
   "cell_type": "code",
   "execution_count": null,
   "id": "adfa50de",
   "metadata": {
    "hidden": true
   },
   "outputs": [],
   "source": []
  },
  {
   "cell_type": "markdown",
   "id": "8ffbafa1",
   "metadata": {
    "heading_collapsed": true
   },
   "source": [
    "### **H6.** Lojas com mais promoções consecutivas deveriam vender mais.\n",
    "**False** => Na verdade lojas com **MAIS** promoções consecutivas vendem **MENOS**"
   ]
  },
  {
   "cell_type": "code",
   "execution_count": null,
   "id": "421810d4",
   "metadata": {
    "ExecuteTime": {
     "end_time": "2022-07-10T17:08:22.293764Z",
     "start_time": "2022-07-10T17:08:22.223004Z"
    },
    "hidden": true
   },
   "outputs": [],
   "source": [
    "df4[['promo', 'sales', 'promo2']].groupby(['promo', 'promo2']).sum().reset_index()"
   ]
  },
  {
   "cell_type": "code",
   "execution_count": null,
   "id": "bedd75aa",
   "metadata": {
    "ExecuteTime": {
     "end_time": "2022-07-10T17:18:37.441466Z",
     "start_time": "2022-07-10T17:18:37.120985Z"
    },
    "hidden": true
   },
   "outputs": [],
   "source": [
    "aux1 = df4[(df4['promo'] == 1) & (df4['promo2'] == 1)][['year_week', 'sales']].groupby('year_week').sum().reset_index()\n",
    "ax = aux1.plot()\n",
    "\n",
    "aux2 = df4[(df4['promo'] == 1) & (df4['promo2'] == 0)][['year_week', 'sales']].groupby('year_week').sum().reset_index()\n",
    "aux2.plot(ax=ax)\n",
    "\n",
    "ax.legend(labels=['Tradicional & Extendida', 'Tradicional']);"
   ]
  },
  {
   "cell_type": "markdown",
   "id": "33add74b",
   "metadata": {},
   "source": [
    "### **H7** Lojas abertas durante o feriado de Natal deveriam vender mais.\n",
    "**False** => Na verdade lojas abertas durante o feriado de Natal vendem **MENOS**"
   ]
  },
  {
   "cell_type": "code",
   "execution_count": null,
   "id": "440837be",
   "metadata": {},
   "outputs": [],
   "source": [
    "aux = df4[df4['state_holiday'] != 'Regular day']\n",
    "\n",
    "plt.subplot(1, 2, 1)\n",
    "aux1 = aux[['state_holiday', 'sales']].groupby('state_holiday').sum().reset_index()\n",
    "sns.barplot(x='state_holiday', y='sales', data=aux1);\n",
    "\n",
    "plt.subplot(1, 2, 2)\n",
    "aux2 = aux[['year', 'state_holiday', 'sales']].groupby(['year', 'state_holiday']).sum().reset_index()\n",
    "sns.barplot(x='year', y='sales', hue='state_holiday', data=aux2);"
   ]
  },
  {
   "cell_type": "markdown",
   "id": "1ee8d1e7",
   "metadata": {},
   "source": [
    "### **H8.** Lojas deveriam vender mais ao longo dos anos.\n",
    "**False** => Na verdade lojas vendem **MENOS** ao longo dos anos."
   ]
  },
  {
   "cell_type": "code",
   "execution_count": null,
   "id": "19a5b742",
   "metadata": {},
   "outputs": [],
   "source": [
    "aux1 = df4[['year', 'sales']].groupby('year').sum().reset_index()\n",
    "\n",
    "plt.subplot(1, 3, 1)\n",
    "sns.barplot(x='year', y='sales', data=aux1);\n",
    "\n",
    "plt.subplot(1, 3, 2)\n",
    "sns.regplot(x='year', y='sales', data=aux1);\n",
    "\n",
    "plt.subplot(1, 3, 3)\n",
    "sns.heatmap(aux1.corr(method='pearson'), annot=True);\n"
   ]
  },
  {
   "cell_type": "markdown",
   "id": "4a6c0063",
   "metadata": {},
   "source": [
    "### **H9.** Lojas deveriam vender mais no segundo semestre do ano.\n",
    "**False** Na verdade lojas vendem **MENOS** no segundo semestre do ano.\n"
   ]
  },
  {
   "cell_type": "code",
   "execution_count": null,
   "id": "9d0ec602",
   "metadata": {},
   "outputs": [],
   "source": [
    "aux1 = df4[['month', 'sales']].groupby('month').sum().reset_index()\n",
    "\n",
    "plt.subplot(1, 3, 1)\n",
    "sns.barplot(x='month', y='sales', data=aux1);\n",
    "\n",
    "plt.subplot(1, 3, 2)\n",
    "sns.regplot(x='month', y='sales', data=aux1);\n",
    "\n",
    "plt.subplot(1, 3, 3)\n",
    "sns.heatmap(aux1.corr(method='pearson'), annot=True);"
   ]
  },
  {
   "cell_type": "markdown",
   "id": "fe0fdcbe",
   "metadata": {},
   "source": [
    "### **H10.** Lojas deveriam vender mais depois do dia 10 de cada mês.\n",
    "**True** => Lojas realmente vendem mais depois do dia 10"
   ]
  },
  {
   "cell_type": "code",
   "execution_count": null,
   "id": "65b3cd14",
   "metadata": {},
   "outputs": [],
   "source": [
    "aux1 = df4[['day', 'sales']].groupby('day').sum().reset_index()\n",
    "\n",
    "plt.subplot(2, 2, 1)\n",
    "sns.barplot(x='day', y='sales', data=aux1);\n",
    "\n",
    "plt.subplot(2, 2, 2)\n",
    "sns.regplot(x='day', y='sales', data=aux1);\n",
    "\n",
    "plt.subplot(2, 2, 3)\n",
    "sns.heatmap(aux1.corr(method='pearson'), annot=True);\n",
    "\n",
    "aux1['before_after'] = aux1['day'].apply(lambda x: 'before_10_days' if x <= 10 else 'after_10_days')\n",
    "aux2 = aux1[['before_after', 'sales']].groupby('before_after').sum().reset_index()\n",
    "\n",
    "plt.subplot(2, 2, 4)\n",
    "sns.barplot(x='before_after', y='sales', data=aux2);"
   ]
  },
  {
   "cell_type": "markdown",
   "id": "a69e7118",
   "metadata": {},
   "source": [
    "### **H11.** Lojas deveriam vender menos aos finais de semana.\n",
    "**True** => Lojas vendem menos nos finais de semana"
   ]
  },
  {
   "cell_type": "code",
   "execution_count": null,
   "id": "42244553",
   "metadata": {},
   "outputs": [],
   "source": [
    "aux1 = df4[['day_of_week', 'sales']].groupby('day_of_week').sum().reset_index()\n",
    "\n",
    "plt.subplot(1, 3, 1)\n",
    "sns.barplot(x='day_of_week', y='sales', data=aux1);\n",
    "\n",
    "plt.subplot(1, 3, 2)\n",
    "sns.regplot(x='day_of_week', y='sales', data=aux1);\n",
    "\n",
    "plt.subplot(1, 3, 3)\n",
    "sns.heatmap(aux1.corr(method='pearson'), annot=True);"
   ]
  },
  {
   "cell_type": "markdown",
   "id": "99bc4f58",
   "metadata": {},
   "source": [
    "### **H12.** Lojas deveriam vender menos durante os feriados escolares.\n",
    "**True** => Lojas vendem menos durante os feriados escolares, exeto os meses de julho e agosto"
   ]
  },
  {
   "cell_type": "code",
   "execution_count": null,
   "id": "a5f731fc",
   "metadata": {},
   "outputs": [],
   "source": [
    "aux1 = df4[['sales', 'school_holiday']].groupby('school_holiday').sum().reset_index()\n",
    "\n",
    "plt.subplot(2, 1, 1)\n",
    "sns.barplot(x='school_holiday', y='sales', data=aux1);\n",
    "\n",
    "plt.subplot(2, 1, 2)\n",
    "aux2 = df4[['sales', 'school_holiday', 'month']].groupby(['month', 'school_holiday']).sum().reset_index()\n",
    "sns.barplot(x='month', y='sales', hue='school_holiday', data=aux2);"
   ]
  },
  {
   "cell_type": "markdown",
   "id": "ea3727c9",
   "metadata": {},
   "source": [
    "## 4.2.1. Resumo das Hipoteses"
   ]
  },
  {
   "cell_type": "code",
   "execution_count": null,
   "id": "4f857c3d",
   "metadata": {},
   "outputs": [],
   "source": [
    "tab = [\n",
    "    ['Hipoteses', 'Conclusão', 'Relevancia'],\n",
    "    ['H1', 'Falsa', 'Baixa'],\n",
    "    ['H2', 'Falsa', 'Media'],\n",
    "    ['H3', 'Falsa', 'Media'],\n",
    "    ['H4', 'Falsa', 'Baixa'],\n",
    "    ['H5', '-', '-'],\n",
    "    ['H6', 'Falsa', 'Baixa'],\n",
    "    ['H7', 'Falsa', 'Media'],\n",
    "    ['H8', 'Falsa', 'Alta'],\n",
    "    ['H9', 'Falsa', 'Alta'],\n",
    "    ['H10', 'Verdadeira', 'Alta'],\n",
    "    ['H11', 'Verdadeira', 'Alta'],\n",
    "    ['H12', 'Verdadeira', 'Baixa'],\n",
    "]\n",
    "print(tabulate(tab, headers='firstrow'))"
   ]
  },
  {
   "cell_type": "code",
   "execution_count": null,
   "id": "9010d5d5",
   "metadata": {},
   "outputs": [],
   "source": []
  },
  {
   "cell_type": "markdown",
   "id": "671d1770",
   "metadata": {},
   "source": [
    "## 4.3 Analise Multivariada"
   ]
  },
  {
   "cell_type": "markdown",
   "id": "55ac8fa0",
   "metadata": {},
   "source": [
    "### 4.3.1 Numerical Atrributes"
   ]
  },
  {
   "cell_type": "code",
   "execution_count": null,
   "id": "3766015d",
   "metadata": {},
   "outputs": [],
   "source": [
    "correlation = num_attributes.corr(method='pearson')\n",
    "sns.heatmap(correlation, annot=True)"
   ]
  },
  {
   "cell_type": "markdown",
   "id": "6b1f6c32",
   "metadata": {},
   "source": [
    "### 4.3.2 Categorical Attributes\n"
   ]
  },
  {
   "cell_type": "code",
   "execution_count": null,
   "id": "6ca6c9e4",
   "metadata": {},
   "outputs": [],
   "source": [
    "# only categorical data\n",
    "cat = df4.select_dtypes(include='object')\n",
    "\n",
    "# calculate cramer's V\n",
    "a1 = cramer_v(cat['state_holiday'], cat['state_holiday'])\n",
    "a2 = cramer_v(cat['state_holiday'], cat['store_type'])\n",
    "a3 = cramer_v(cat['state_holiday'], cat['assortment'])\n",
    "\n",
    "a4 = cramer_v(cat['store_type'], cat['state_holiday'])\n",
    "a5 = cramer_v(cat['store_type'], cat['store_type'])\n",
    "a6 = cramer_v(cat['store_type'], cat['assortment'])\n",
    "\n",
    "a7 = cramer_v(cat['assortment'], cat['state_holiday'])\n",
    "a8 = cramer_v(cat['assortment'], cat['store_type'])\n",
    "a9 = cramer_v(cat['assortment'], cat['assortment'])\n",
    "\n",
    "# final dataset\n",
    "d = pd.DataFrame({\n",
    "    'state_holiday': [a1, a2, a3],\n",
    "    'store_type': [a4, a5, a6],\n",
    "    'assortment': [a7, a8, a9],\n",
    "})\n",
    "\n",
    "d = d.set_index(d.columns)\n",
    "\n",
    "# plot heatmap\n",
    "sns.heatmap(d, annot=True)"
   ]
  },
  {
   "cell_type": "markdown",
   "id": "bc3800dc",
   "metadata": {},
   "source": [
    "# 5.0 PREPARAÇÃO DOS DADOS"
   ]
  },
  {
   "cell_type": "code",
   "execution_count": null,
   "id": "fed08cb4",
   "metadata": {},
   "outputs": [],
   "source": [
    "df5 = df4.copy()"
   ]
  },
  {
   "cell_type": "markdown",
   "id": "683715c7",
   "metadata": {},
   "source": [
    "## 5.1 Normalização"
   ]
  },
  {
   "cell_type": "markdown",
   "id": "c9da32cc",
   "metadata": {},
   "source": [
    "## 5.2 Reescala"
   ]
  },
  {
   "cell_type": "code",
   "execution_count": null,
   "id": "258f1a49",
   "metadata": {},
   "outputs": [],
   "source": [
    "df5['competition_time_month'] = df5['competition_time_month'].astype(np.int64)\n",
    "df5['promo_time_week'] = df5['promo_time_week'].astype(np.int64)\n",
    "df5['week_of_year'] = df5['week_of_year'].astype(np.int64)\n",
    "df5['promo2_since_year'] = df5['promo2_since_year'].astype(np.int64)\n",
    "df5['promo2_since_week'] = df5['promo2_since_week'].astype(np.int64)\n",
    "df5['competition_open_since_year'] = df5['competition_open_since_year'].astype(np.int64)\n",
    "df5['competition_open_since_month'] = df5['competition_open_since_month'].astype(np.int64)"
   ]
  },
  {
   "cell_type": "code",
   "execution_count": null,
   "id": "4433b112",
   "metadata": {},
   "outputs": [],
   "source": [
    "rs = RobustScaler()\n",
    "mms = MinMaxScaler()\n",
    "\n",
    "# competition_distance\n",
    "df5['competition_distance'] = rs.fit_transform(df5[['competition_distance']].values)\n",
    "\n",
    "# year\n",
    "df5['year'] = mms.fit_transform(df5[['year']].values)\n",
    "\n",
    "# competition_time_month\n",
    "df5['competition_time_month'] = rs.fit_transform(df5[['competition_time_month']].values)\n",
    "\n",
    "# promo_time_week\n",
    "df5['promo_time_week'] = mms.fit_transform(df5[['promo_time_week']].values)\n"
   ]
  },
  {
   "cell_type": "markdown",
   "id": "6150021a",
   "metadata": {},
   "source": [
    "## 5.3 Transformação"
   ]
  },
  {
   "cell_type": "markdown",
   "id": "3c9138b9",
   "metadata": {},
   "source": [
    "### 5.3.1 Encoding"
   ]
  },
  {
   "cell_type": "code",
   "execution_count": null,
   "id": "ca66755a",
   "metadata": {},
   "outputs": [],
   "source": [
    "# state_holiday - One Hot Encoding\n",
    "df5 = pd.get_dummies(df5, prefix=['state_holiday'], columns=['state_holiday'])\n",
    "\n",
    "# store_type - Label Encoding\n",
    "le = LabelEncoder()\n",
    "df5['store_type'] = le.fit_transform(df5['store_type'])\n",
    "\n",
    "# assortment - Ordinal Encoding\n",
    "assortment_dict = {'basic': 1, 'extra': 2, 'extended': 3}\n",
    "df5['assortment'] = df5['assortment'].map(assortment_dict)"
   ]
  },
  {
   "cell_type": "markdown",
   "id": "f4f4c6dd",
   "metadata": {},
   "source": [
    "### 5.3.2 Transformação da variavel resposta"
   ]
  },
  {
   "cell_type": "code",
   "execution_count": 56,
   "id": "fd2bad2d",
   "metadata": {},
   "outputs": [],
   "source": [
    "df5['sales'] = np.log1p(df5['sales'])"
   ]
  },
  {
   "cell_type": "code",
   "execution_count": 57,
   "id": "983f8fe0",
   "metadata": {},
   "outputs": [
    {
     "name": "stderr",
     "output_type": "stream",
     "text": [
      "d:\\Codes\\CursoPythonMeigaronREPOS\\aprendizados_data_science\\DS\\lib\\site-packages\\seaborn\\distributions.py:2619: FutureWarning: `distplot` is a deprecated function and will be removed in a future version. Please adapt your code to use either `displot` (a figure-level function with similar flexibility) or `histplot` (an axes-level function for histograms).\n",
      "  warnings.warn(msg, FutureWarning)\n"
     ]
    },
    {
     "data": {
      "text/plain": [
       "<AxesSubplot:xlabel='sales', ylabel='Density'>"
      ]
     },
     "execution_count": 57,
     "metadata": {},
     "output_type": "execute_result"
    },
    {
     "data": {
      "image/png": "[encoded data removed]",
      "text/plain": [
       "<Figure size 1800x864 with 1 Axes>"
      ]
     },
     "metadata": {},
     "output_type": "display_data"
    }
   ],
   "source": [
    "sns.distplot(df5['sales'])"
   ]
  },
  {
   "cell_type": "markdown",
   "id": "64c0e49e",
   "metadata": {},
   "source": [
    "### 5.3.3 Transformação de natureza cíclica"
   ]
  },
  {
   "cell_type": "code",
   "execution_count": 64,
   "id": "c054bd2a",
   "metadata": {},
   "outputs": [],
   "source": [
    "# day_of_week\n",
    "df5['day_of_week_sin'] = df5['day_of_week'].apply(lambda x: np.sin(x * (2.0 * np.pi/7)))\n",
    "df5['day_of_week_cos'] = df5['day_of_week'].apply(lambda x: np.cos(x * (2.0 * np.pi/7)))\n",
    "\n",
    "# month\n",
    "df5['month_sin'] = df5['month'].apply(lambda x: np.sin(x * (2.0 * np.pi/12)))\n",
    "df5['month_cos'] = df5['month'].apply(lambda x: np.cos(x * (2.0 * np.pi/12)))\n",
    "\n",
    "# day\n",
    "df5['day_sin'] = df5['day'].apply(lambda x: np.sin(x * (2.0 * np.pi/30)))\n",
    "df5['day_cos'] = df5['day'].apply(lambda x: np.cos(x * (2.0 * np.pi/30)))\n",
    "\n",
    "# week_of_year\n",
    "df5['week_of_year_sin'] = df5['week_of_year'].apply(lambda x: np.sin(x * (2.0 * np.pi/52)))\n",
    "df5['week_of_year_cos'] = df5['week_of_year'].apply(lambda x: np.cos(x * (2.0 * np.pi/52)))"
   ]
  },
  {
   "cell_type": "code",
   "execution_count": 65,
   "id": "40fc988f",
   "metadata": {},
   "outputs": [
    {
     "data": {
      "text/html": [
       "<div>\n",
       "<style scoped>\n",
       "    .dataframe tbody tr th:only-of-type {\n",
       "        vertical-align: middle;\n",
       "    }\n",
       "\n",
       "    .dataframe tbody tr th {\n",
       "        vertical-align: top;\n",
       "    }\n",
       "\n",
       "    .dataframe thead th {\n",
       "        text-align: right;\n",
       "    }\n",
       "</style>\n",
       "<table border=\"1\" class=\"dataframe\">\n",
       "  <thead>\n",
       "    <tr style=\"text-align: right;\">\n",
       "      <th></th>\n",
       "      <th>store</th>\n",
       "      <th>day_of_week</th>\n",
       "      <th>date</th>\n",
       "      <th>sales</th>\n",
       "      <th>promo</th>\n",
       "      <th>school_holiday</th>\n",
       "      <th>store_type</th>\n",
       "      <th>assortment</th>\n",
       "      <th>competition_distance</th>\n",
       "      <th>competition_open_since_month</th>\n",
       "      <th>competition_open_since_year</th>\n",
       "      <th>promo2</th>\n",
       "      <th>promo2_since_week</th>\n",
       "      <th>promo2_since_year</th>\n",
       "      <th>is_promo</th>\n",
       "      <th>year</th>\n",
       "      <th>month</th>\n",
       "      <th>day</th>\n",
       "      <th>week_of_year</th>\n",
       "      <th>year_week</th>\n",
       "      <th>competition_since</th>\n",
       "      <th>competition_time_month</th>\n",
       "      <th>promo_since</th>\n",
       "      <th>promo_time_week</th>\n",
       "      <th>state_holiday_Christmas</th>\n",
       "      <th>state_holiday_Easter holiday</th>\n",
       "      <th>state_holiday_Regular day</th>\n",
       "      <th>state_holiday_public holiday</th>\n",
       "      <th>month_sin</th>\n",
       "      <th>month_cos</th>\n",
       "      <th>day_of_week_sin</th>\n",
       "      <th>day_of_week_cos</th>\n",
       "      <th>day_sin</th>\n",
       "      <th>day_cos</th>\n",
       "      <th>week_of_year_sin</th>\n",
       "      <th>week_of_year_cos</th>\n",
       "    </tr>\n",
       "  </thead>\n",
       "  <tbody>\n",
       "    <tr>\n",
       "      <th>378871</th>\n",
       "      <td>444</td>\n",
       "      <td>5</td>\n",
       "      <td>2014-08-01</td>\n",
       "      <td>9.504576</td>\n",
       "      <td>1</td>\n",
       "      <td>1</td>\n",
       "      <td>2</td>\n",
       "      <td>1</td>\n",
       "      <td>-0.101613</td>\n",
       "      <td>11</td>\n",
       "      <td>2009</td>\n",
       "      <td>0</td>\n",
       "      <td>31</td>\n",
       "      <td>2014</td>\n",
       "      <td>0</td>\n",
       "      <td>0.5</td>\n",
       "      <td>8</td>\n",
       "      <td>1</td>\n",
       "      <td>31</td>\n",
       "      <td>2014-30</td>\n",
       "      <td>2009-11-01</td>\n",
       "      <td>0.554054</td>\n",
       "      <td>2014-07-28</td>\n",
       "      <td>0.287016</td>\n",
       "      <td>0</td>\n",
       "      <td>0</td>\n",
       "      <td>1</td>\n",
       "      <td>0</td>\n",
       "      <td>-8.660254e-01</td>\n",
       "      <td>-5.000000e-01</td>\n",
       "      <td>-0.974928</td>\n",
       "      <td>-0.222521</td>\n",
       "      <td>2.079117e-01</td>\n",
       "      <td>0.978148</td>\n",
       "      <td>-0.568065</td>\n",
       "      <td>-0.822984</td>\n",
       "    </tr>\n",
       "    <tr>\n",
       "      <th>630086</th>\n",
       "      <td>897</td>\n",
       "      <td>6</td>\n",
       "      <td>2013-12-14</td>\n",
       "      <td>8.514590</td>\n",
       "      <td>0</td>\n",
       "      <td>0</td>\n",
       "      <td>2</td>\n",
       "      <td>3</td>\n",
       "      <td>0.154839</td>\n",
       "      <td>1</td>\n",
       "      <td>2007</td>\n",
       "      <td>1</td>\n",
       "      <td>5</td>\n",
       "      <td>2013</td>\n",
       "      <td>0</td>\n",
       "      <td>0.0</td>\n",
       "      <td>12</td>\n",
       "      <td>14</td>\n",
       "      <td>50</td>\n",
       "      <td>2013-49</td>\n",
       "      <td>2007-01-01</td>\n",
       "      <td>0.918919</td>\n",
       "      <td>2013-01-28</td>\n",
       "      <td>0.389522</td>\n",
       "      <td>0</td>\n",
       "      <td>0</td>\n",
       "      <td>1</td>\n",
       "      <td>0</td>\n",
       "      <td>-2.449294e-16</td>\n",
       "      <td>1.000000e+00</td>\n",
       "      <td>-0.781831</td>\n",
       "      <td>0.623490</td>\n",
       "      <td>2.079117e-01</td>\n",
       "      <td>-0.978148</td>\n",
       "      <td>-0.239316</td>\n",
       "      <td>0.970942</td>\n",
       "    </tr>\n",
       "    <tr>\n",
       "      <th>466348</th>\n",
       "      <td>1064</td>\n",
       "      <td>6</td>\n",
       "      <td>2014-05-10</td>\n",
       "      <td>9.009936</td>\n",
       "      <td>0</td>\n",
       "      <td>0</td>\n",
       "      <td>0</td>\n",
       "      <td>3</td>\n",
       "      <td>-0.308065</td>\n",
       "      <td>5</td>\n",
       "      <td>2014</td>\n",
       "      <td>0</td>\n",
       "      <td>19</td>\n",
       "      <td>2014</td>\n",
       "      <td>0</td>\n",
       "      <td>0.5</td>\n",
       "      <td>5</td>\n",
       "      <td>10</td>\n",
       "      <td>19</td>\n",
       "      <td>2014-18</td>\n",
       "      <td>2014-05-01</td>\n",
       "      <td>-0.216216</td>\n",
       "      <td>2014-05-05</td>\n",
       "      <td>0.287016</td>\n",
       "      <td>0</td>\n",
       "      <td>0</td>\n",
       "      <td>1</td>\n",
       "      <td>0</td>\n",
       "      <td>5.000000e-01</td>\n",
       "      <td>-8.660254e-01</td>\n",
       "      <td>-0.781831</td>\n",
       "      <td>0.623490</td>\n",
       "      <td>8.660254e-01</td>\n",
       "      <td>-0.500000</td>\n",
       "      <td>0.748511</td>\n",
       "      <td>-0.663123</td>\n",
       "    </tr>\n",
       "    <tr>\n",
       "      <th>742195</th>\n",
       "      <td>391</td>\n",
       "      <td>3</td>\n",
       "      <td>2013-09-04</td>\n",
       "      <td>8.623713</td>\n",
       "      <td>0</td>\n",
       "      <td>0</td>\n",
       "      <td>0</td>\n",
       "      <td>1</td>\n",
       "      <td>-0.301613</td>\n",
       "      <td>11</td>\n",
       "      <td>2014</td>\n",
       "      <td>1</td>\n",
       "      <td>31</td>\n",
       "      <td>2013</td>\n",
       "      <td>0</td>\n",
       "      <td>0.0</td>\n",
       "      <td>9</td>\n",
       "      <td>4</td>\n",
       "      <td>36</td>\n",
       "      <td>2013-35</td>\n",
       "      <td>2014-11-01</td>\n",
       "      <td>-0.418919</td>\n",
       "      <td>2013-07-29</td>\n",
       "      <td>0.298405</td>\n",
       "      <td>0</td>\n",
       "      <td>0</td>\n",
       "      <td>1</td>\n",
       "      <td>0</td>\n",
       "      <td>-1.000000e+00</td>\n",
       "      <td>-1.836970e-16</td>\n",
       "      <td>0.433884</td>\n",
       "      <td>-0.900969</td>\n",
       "      <td>7.431448e-01</td>\n",
       "      <td>0.669131</td>\n",
       "      <td>-0.935016</td>\n",
       "      <td>-0.354605</td>\n",
       "    </tr>\n",
       "    <tr>\n",
       "      <th>696543</th>\n",
       "      <td>454</td>\n",
       "      <td>2</td>\n",
       "      <td>2013-10-15</td>\n",
       "      <td>8.487146</td>\n",
       "      <td>0</td>\n",
       "      <td>0</td>\n",
       "      <td>0</td>\n",
       "      <td>1</td>\n",
       "      <td>3.890323</td>\n",
       "      <td>10</td>\n",
       "      <td>2013</td>\n",
       "      <td>0</td>\n",
       "      <td>42</td>\n",
       "      <td>2013</td>\n",
       "      <td>0</td>\n",
       "      <td>0.0</td>\n",
       "      <td>10</td>\n",
       "      <td>15</td>\n",
       "      <td>42</td>\n",
       "      <td>2013-41</td>\n",
       "      <td>2013-10-01</td>\n",
       "      <td>-0.216216</td>\n",
       "      <td>2013-10-14</td>\n",
       "      <td>0.287016</td>\n",
       "      <td>0</td>\n",
       "      <td>0</td>\n",
       "      <td>1</td>\n",
       "      <td>0</td>\n",
       "      <td>-8.660254e-01</td>\n",
       "      <td>5.000000e-01</td>\n",
       "      <td>0.974928</td>\n",
       "      <td>-0.222521</td>\n",
       "      <td>1.224647e-16</td>\n",
       "      <td>-1.000000</td>\n",
       "      <td>-0.935016</td>\n",
       "      <td>0.354605</td>\n",
       "    </tr>\n",
       "  </tbody>\n",
       "</table>\n",
       "</div>"
      ],
      "text/plain": [
       "        store  day_of_week       date     sales  promo  school_holiday  store_type  assortment  competition_distance  competition_open_since_month  competition_open_since_year  promo2  promo2_since_week  promo2_since_year  is_promo  year  month  day  week_of_year year_week competition_since  competition_time_month promo_since  promo_time_week  state_holiday_Christmas  state_holiday_Easter holiday  state_holiday_Regular day  state_holiday_public holiday     month_sin     month_cos  day_of_week_sin  day_of_week_cos       day_sin   day_cos  week_of_year_sin  week_of_year_cos\n",
       "378871    444            5 2014-08-01  9.504576      1               1           2           1             -0.101613                            11                         2009       0                 31               2014         0   0.5      8    1            31   2014-30        2009-11-01                0.554054  2014-07-28         0.287016                        0                             0                          1                             0 -8.660254e-01 -5.000000e-01        -0.974928        -0.222521  2.079117e-01  0.978148         -0.568065         -0.822984\n",
       "630086    897            6 2013-12-14  8.514590      0               0           2           3              0.154839                             1                         2007       1                  5               2013         0   0.0     12   14            50   2013-49        2007-01-01                0.918919  2013-01-28         0.389522                        0                             0                          1                             0 -2.449294e-16  1.000000e+00        -0.781831         0.623490  2.079117e-01 -0.978148         -0.239316          0.970942\n",
       "466348   1064            6 2014-05-10  9.009936      0               0           0           3             -0.308065                             5                         2014       0                 19               2014         0   0.5      5   10            19   2014-18        2014-05-01               -0.216216  2014-05-05         0.287016                        0                             0                          1                             0  5.000000e-01 -8.660254e-01        -0.781831         0.623490  8.660254e-01 -0.500000          0.748511         -0.663123\n",
       "742195    391            3 2013-09-04  8.623713      0               0           0           1             -0.301613                            11                         2014       1                 31               2013         0   0.0      9    4            36   2013-35        2014-11-01               -0.418919  2013-07-29         0.298405                        0                             0                          1                             0 -1.000000e+00 -1.836970e-16         0.433884        -0.900969  7.431448e-01  0.669131         -0.935016         -0.354605\n",
       "696543    454            2 2013-10-15  8.487146      0               0           0           1              3.890323                            10                         2013       0                 42               2013         0   0.0     10   15            42   2013-41        2013-10-01               -0.216216  2013-10-14         0.287016                        0                             0                          1                             0 -8.660254e-01  5.000000e-01         0.974928        -0.222521  1.224647e-16 -1.000000         -0.935016          0.354605"
      ]
     },
     "execution_count": 65,
     "metadata": {},
     "output_type": "execute_result"
    }
   ],
   "source": [
    "df5.sample(5)"
   ]
  },
  {
   "cell_type": "code",
   "execution_count": null,
   "id": "f43ffe8a",
   "metadata": {},
   "outputs": [],
   "source": []
  }
 ],
 "metadata": {
  "hide_input": false,
  "kernelspec": {
   "display_name": "Python 3 (ipykernel)",
   "language": "python",
   "name": "python3"
  },
  "language_info": {
   "codemirror_mode": {
    "name": "ipython",
    "version": 3
   },
   "file_extension": ".py",
   "mimetype": "text/x-python",
   "name": "python",
   "nbconvert_exporter": "python",
   "pygments_lexer": "ipython3",
   "version": "3.10.5"
  },
  "notify_time": "5",
  "varInspector": {
   "cols": {
    "lenName": 16,
    "lenType": 16,
    "lenVar": 40
   },
   "kernels_config": {
    "python": {
     "delete_cmd_postfix": "",
     "delete_cmd_prefix": "del ",
     "library": "var_list.py",
     "varRefreshCmd": "print(var_dic_list())"
    },
    "r": {
     "delete_cmd_postfix": ") ",
     "delete_cmd_prefix": "rm(",
     "library": "var_list.r",
     "varRefreshCmd": "cat(var_dic_list()) "
    }
   },
   "position": {
    "height": "163.85px",
    "left": "1561px",
    "right": "20px",
    "top": "105px",
    "width": "340px"
   },
   "types_to_exclude": [
    "module",
    "function",
    "builtin_function_or_method",
    "instance",
    "_Feature"
   ],
   "window_display": false
  },
  "vscode": {
   "interpreter": {
    "hash": "52b65fd32450d3be790198ba5d5cb7e07d2346b8f3395a1ce249e0ac0fe8f2cc"
   }
  }
 },
 "nbformat": 4,
 "nbformat_minor": 5
}
